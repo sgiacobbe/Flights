{
 "cells": [
  {
   "cell_type": "markdown",
   "id": "f9c48ebe",
   "metadata": {},
   "source": [
    "# Domestic Flights in 2015\n",
    "### Sophie Giacobbe, 2023\n",
    "https://github.com/sgiacobbe/Flights/tree/main"
   ]
  },
  {
   "cell_type": "markdown",
   "id": "561c19c4",
   "metadata": {},
   "source": [
    "Since I stepped foot on my first airplane when I was just a few months old, my dad has kept track of every flight I’ve ever been on. 384 flights later, I’ve come to realize both my passion for travel and my passion for data. Though my personal flight data set isn’t nearly large enough nor complex enough to build an entire project around, I knew immediately that I wanted to explore something similar.<br>\n",
    "<br>\n",
    "Through Kaggle, I was able to find a dataset that fit my interests perfectly. The Department of Transportation keeps a record of all flight information by month. This information was compiled across the year 2015 into Flights.csv and posted with the question: which airline should you fly on to avoid significant delays? I used this data to answer some of my own questions, just generally and about delays, taxiing, and schedules.<br>\n",
    "<br>\n",
    "Below is a dataset of airline IATA codes as well as airport IATA codes which will be used throughout this analysis."
   ]
  },
  {
   "cell_type": "code",
   "execution_count": null,
   "id": "0b26ee4c",
   "metadata": {},
   "outputs": [],
   "source": [
    "import numpy as np\n",
    "import pandas as pd\n",
    "import matplotlib.pyplot as plt"
   ]
  },
  {
   "cell_type": "code",
   "execution_count": 29,
   "id": "cc185bb6",
   "metadata": {},
   "outputs": [],
   "source": [
    "flights = pd.read_csv('flights.csv')\n",
    "airlines = pd.read_csv('airlines.csv')\n",
    "airports = pd.read_csv('airports.csv')"
   ]
  },
  {
   "cell_type": "code",
   "execution_count": 30,
   "id": "baa48090",
   "metadata": {},
   "outputs": [
    {
     "data": {
      "text/html": [
       "<div>\n",
       "<style scoped>\n",
       "    .dataframe tbody tr th:only-of-type {\n",
       "        vertical-align: middle;\n",
       "    }\n",
       "\n",
       "    .dataframe tbody tr th {\n",
       "        vertical-align: top;\n",
       "    }\n",
       "\n",
       "    .dataframe thead th {\n",
       "        text-align: right;\n",
       "    }\n",
       "</style>\n",
       "<table border=\"1\" class=\"dataframe\">\n",
       "  <thead>\n",
       "    <tr style=\"text-align: right;\">\n",
       "      <th></th>\n",
       "      <th>IATA_CODE</th>\n",
       "      <th>AIRLINE</th>\n",
       "    </tr>\n",
       "  </thead>\n",
       "  <tbody>\n",
       "    <tr>\n",
       "      <th>0</th>\n",
       "      <td>UA</td>\n",
       "      <td>United Air Lines Inc.</td>\n",
       "    </tr>\n",
       "    <tr>\n",
       "      <th>1</th>\n",
       "      <td>AA</td>\n",
       "      <td>American Airlines Inc.</td>\n",
       "    </tr>\n",
       "    <tr>\n",
       "      <th>2</th>\n",
       "      <td>US</td>\n",
       "      <td>US Airways Inc.</td>\n",
       "    </tr>\n",
       "    <tr>\n",
       "      <th>3</th>\n",
       "      <td>F9</td>\n",
       "      <td>Frontier Airlines Inc.</td>\n",
       "    </tr>\n",
       "    <tr>\n",
       "      <th>4</th>\n",
       "      <td>B6</td>\n",
       "      <td>JetBlue Airways</td>\n",
       "    </tr>\n",
       "    <tr>\n",
       "      <th>5</th>\n",
       "      <td>OO</td>\n",
       "      <td>Skywest Airlines Inc.</td>\n",
       "    </tr>\n",
       "    <tr>\n",
       "      <th>6</th>\n",
       "      <td>AS</td>\n",
       "      <td>Alaska Airlines Inc.</td>\n",
       "    </tr>\n",
       "    <tr>\n",
       "      <th>7</th>\n",
       "      <td>NK</td>\n",
       "      <td>Spirit Air Lines</td>\n",
       "    </tr>\n",
       "    <tr>\n",
       "      <th>8</th>\n",
       "      <td>WN</td>\n",
       "      <td>Southwest Airlines Co.</td>\n",
       "    </tr>\n",
       "    <tr>\n",
       "      <th>9</th>\n",
       "      <td>DL</td>\n",
       "      <td>Delta Air Lines Inc.</td>\n",
       "    </tr>\n",
       "    <tr>\n",
       "      <th>10</th>\n",
       "      <td>EV</td>\n",
       "      <td>Atlantic Southeast Airlines</td>\n",
       "    </tr>\n",
       "    <tr>\n",
       "      <th>11</th>\n",
       "      <td>HA</td>\n",
       "      <td>Hawaiian Airlines Inc.</td>\n",
       "    </tr>\n",
       "    <tr>\n",
       "      <th>12</th>\n",
       "      <td>MQ</td>\n",
       "      <td>American Eagle Airlines Inc.</td>\n",
       "    </tr>\n",
       "    <tr>\n",
       "      <th>13</th>\n",
       "      <td>VX</td>\n",
       "      <td>Virgin America</td>\n",
       "    </tr>\n",
       "  </tbody>\n",
       "</table>\n",
       "</div>"
      ],
      "text/plain": [
       "   IATA_CODE                       AIRLINE\n",
       "0         UA         United Air Lines Inc.\n",
       "1         AA        American Airlines Inc.\n",
       "2         US               US Airways Inc.\n",
       "3         F9        Frontier Airlines Inc.\n",
       "4         B6               JetBlue Airways\n",
       "5         OO         Skywest Airlines Inc.\n",
       "6         AS          Alaska Airlines Inc.\n",
       "7         NK              Spirit Air Lines\n",
       "8         WN        Southwest Airlines Co.\n",
       "9         DL          Delta Air Lines Inc.\n",
       "10        EV   Atlantic Southeast Airlines\n",
       "11        HA        Hawaiian Airlines Inc.\n",
       "12        MQ  American Eagle Airlines Inc.\n",
       "13        VX                Virgin America"
      ]
     },
     "execution_count": 30,
     "metadata": {},
     "output_type": "execute_result"
    }
   ],
   "source": [
    "airlines"
   ]
  },
  {
   "cell_type": "code",
   "execution_count": 14,
   "id": "c49facea",
   "metadata": {},
   "outputs": [
    {
     "data": {
      "text/html": [
       "<div>\n",
       "<style scoped>\n",
       "    .dataframe tbody tr th:only-of-type {\n",
       "        vertical-align: middle;\n",
       "    }\n",
       "\n",
       "    .dataframe tbody tr th {\n",
       "        vertical-align: top;\n",
       "    }\n",
       "\n",
       "    .dataframe thead th {\n",
       "        text-align: right;\n",
       "    }\n",
       "</style>\n",
       "<table border=\"1\" class=\"dataframe\">\n",
       "  <thead>\n",
       "    <tr style=\"text-align: right;\">\n",
       "      <th></th>\n",
       "      <th>IATA_CODE</th>\n",
       "      <th>AIRPORT</th>\n",
       "      <th>CITY</th>\n",
       "      <th>STATE</th>\n",
       "      <th>COUNTRY</th>\n",
       "      <th>LATITUDE</th>\n",
       "      <th>LONGITUDE</th>\n",
       "    </tr>\n",
       "  </thead>\n",
       "  <tbody>\n",
       "    <tr>\n",
       "      <th>0</th>\n",
       "      <td>ABE</td>\n",
       "      <td>Lehigh Valley International Airport</td>\n",
       "      <td>Allentown</td>\n",
       "      <td>PA</td>\n",
       "      <td>USA</td>\n",
       "      <td>40.65236</td>\n",
       "      <td>-75.44040</td>\n",
       "    </tr>\n",
       "    <tr>\n",
       "      <th>1</th>\n",
       "      <td>ABI</td>\n",
       "      <td>Abilene Regional Airport</td>\n",
       "      <td>Abilene</td>\n",
       "      <td>TX</td>\n",
       "      <td>USA</td>\n",
       "      <td>32.41132</td>\n",
       "      <td>-99.68190</td>\n",
       "    </tr>\n",
       "    <tr>\n",
       "      <th>2</th>\n",
       "      <td>ABQ</td>\n",
       "      <td>Albuquerque International Sunport</td>\n",
       "      <td>Albuquerque</td>\n",
       "      <td>NM</td>\n",
       "      <td>USA</td>\n",
       "      <td>35.04022</td>\n",
       "      <td>-106.60919</td>\n",
       "    </tr>\n",
       "    <tr>\n",
       "      <th>3</th>\n",
       "      <td>ABR</td>\n",
       "      <td>Aberdeen Regional Airport</td>\n",
       "      <td>Aberdeen</td>\n",
       "      <td>SD</td>\n",
       "      <td>USA</td>\n",
       "      <td>45.44906</td>\n",
       "      <td>-98.42183</td>\n",
       "    </tr>\n",
       "    <tr>\n",
       "      <th>4</th>\n",
       "      <td>ABY</td>\n",
       "      <td>Southwest Georgia Regional Airport</td>\n",
       "      <td>Albany</td>\n",
       "      <td>GA</td>\n",
       "      <td>USA</td>\n",
       "      <td>31.53552</td>\n",
       "      <td>-84.19447</td>\n",
       "    </tr>\n",
       "    <tr>\n",
       "      <th>...</th>\n",
       "      <td>...</td>\n",
       "      <td>...</td>\n",
       "      <td>...</td>\n",
       "      <td>...</td>\n",
       "      <td>...</td>\n",
       "      <td>...</td>\n",
       "      <td>...</td>\n",
       "    </tr>\n",
       "    <tr>\n",
       "      <th>317</th>\n",
       "      <td>WRG</td>\n",
       "      <td>Wrangell Airport</td>\n",
       "      <td>Wrangell</td>\n",
       "      <td>AK</td>\n",
       "      <td>USA</td>\n",
       "      <td>56.48433</td>\n",
       "      <td>-132.36982</td>\n",
       "    </tr>\n",
       "    <tr>\n",
       "      <th>318</th>\n",
       "      <td>WYS</td>\n",
       "      <td>Westerly State Airport</td>\n",
       "      <td>West Yellowstone</td>\n",
       "      <td>MT</td>\n",
       "      <td>USA</td>\n",
       "      <td>44.68840</td>\n",
       "      <td>-111.11764</td>\n",
       "    </tr>\n",
       "    <tr>\n",
       "      <th>319</th>\n",
       "      <td>XNA</td>\n",
       "      <td>Northwest Arkansas Regional Airport</td>\n",
       "      <td>Fayetteville/Springdale/Rogers</td>\n",
       "      <td>AR</td>\n",
       "      <td>USA</td>\n",
       "      <td>36.28187</td>\n",
       "      <td>-94.30681</td>\n",
       "    </tr>\n",
       "    <tr>\n",
       "      <th>320</th>\n",
       "      <td>YAK</td>\n",
       "      <td>Yakutat Airport</td>\n",
       "      <td>Yakutat</td>\n",
       "      <td>AK</td>\n",
       "      <td>USA</td>\n",
       "      <td>59.50336</td>\n",
       "      <td>-139.66023</td>\n",
       "    </tr>\n",
       "    <tr>\n",
       "      <th>321</th>\n",
       "      <td>YUM</td>\n",
       "      <td>Yuma International Airport</td>\n",
       "      <td>Yuma</td>\n",
       "      <td>AZ</td>\n",
       "      <td>USA</td>\n",
       "      <td>32.65658</td>\n",
       "      <td>-114.60597</td>\n",
       "    </tr>\n",
       "  </tbody>\n",
       "</table>\n",
       "<p>322 rows × 7 columns</p>\n",
       "</div>"
      ],
      "text/plain": [
       "    IATA_CODE                              AIRPORT  \\\n",
       "0         ABE  Lehigh Valley International Airport   \n",
       "1         ABI             Abilene Regional Airport   \n",
       "2         ABQ    Albuquerque International Sunport   \n",
       "3         ABR            Aberdeen Regional Airport   \n",
       "4         ABY   Southwest Georgia Regional Airport   \n",
       "..        ...                                  ...   \n",
       "317       WRG                     Wrangell Airport   \n",
       "318       WYS               Westerly State Airport   \n",
       "319       XNA  Northwest Arkansas Regional Airport   \n",
       "320       YAK                      Yakutat Airport   \n",
       "321       YUM           Yuma International Airport   \n",
       "\n",
       "                               CITY STATE COUNTRY  LATITUDE  LONGITUDE  \n",
       "0                         Allentown    PA     USA  40.65236  -75.44040  \n",
       "1                           Abilene    TX     USA  32.41132  -99.68190  \n",
       "2                       Albuquerque    NM     USA  35.04022 -106.60919  \n",
       "3                          Aberdeen    SD     USA  45.44906  -98.42183  \n",
       "4                            Albany    GA     USA  31.53552  -84.19447  \n",
       "..                              ...   ...     ...       ...        ...  \n",
       "317                        Wrangell    AK     USA  56.48433 -132.36982  \n",
       "318                West Yellowstone    MT     USA  44.68840 -111.11764  \n",
       "319  Fayetteville/Springdale/Rogers    AR     USA  36.28187  -94.30681  \n",
       "320                         Yakutat    AK     USA  59.50336 -139.66023  \n",
       "321                            Yuma    AZ     USA  32.65658 -114.60597  \n",
       "\n",
       "[322 rows x 7 columns]"
      ]
     },
     "execution_count": 14,
     "metadata": {},
     "output_type": "execute_result"
    }
   ],
   "source": [
    "airports"
   ]
  },
  {
   "cell_type": "markdown",
   "id": "3d49d8ea",
   "metadata": {},
   "source": [
    "### General:\n",
    "To begin, I wanted to answer some general questions I have about these flights such as:<br>\n",
    "* Which airports were most/least popular to fly in/out of?<br>\n",
    "* What were the most/least popular reasons for flight cancellations?<br>\n",
    "* What day of the week was the most/least popular to fly on?<br>\n",
    "* Which airline was flown the most/least?"
   ]
  },
  {
   "cell_type": "code",
   "execution_count": 15,
   "id": "6d65b67b",
   "metadata": {},
   "outputs": [
    {
     "data": {
      "text/html": [
       "<div>\n",
       "<style scoped>\n",
       "    .dataframe tbody tr th:only-of-type {\n",
       "        vertical-align: middle;\n",
       "    }\n",
       "\n",
       "    .dataframe tbody tr th {\n",
       "        vertical-align: top;\n",
       "    }\n",
       "\n",
       "    .dataframe thead th {\n",
       "        text-align: right;\n",
       "    }\n",
       "</style>\n",
       "<table border=\"1\" class=\"dataframe\">\n",
       "  <thead>\n",
       "    <tr style=\"text-align: right;\">\n",
       "      <th></th>\n",
       "      <th>YEAR</th>\n",
       "      <th>MONTH</th>\n",
       "      <th>DAY</th>\n",
       "      <th>DAY_OF_WEEK</th>\n",
       "      <th>AIRLINE</th>\n",
       "      <th>FLIGHT_NUMBER</th>\n",
       "      <th>TAIL_NUMBER</th>\n",
       "      <th>DESTINATION_AIRPORT</th>\n",
       "      <th>SCHEDULED_DEPARTURE</th>\n",
       "      <th>DEPARTURE_TIME</th>\n",
       "      <th>...</th>\n",
       "      <th>ARRIVAL_TIME</th>\n",
       "      <th>ARRIVAL_DELAY</th>\n",
       "      <th>DIVERTED</th>\n",
       "      <th>CANCELLED</th>\n",
       "      <th>CANCELLATION_REASON</th>\n",
       "      <th>AIR_SYSTEM_DELAY</th>\n",
       "      <th>SECURITY_DELAY</th>\n",
       "      <th>AIRLINE_DELAY</th>\n",
       "      <th>LATE_AIRCRAFT_DELAY</th>\n",
       "      <th>WEATHER_DELAY</th>\n",
       "    </tr>\n",
       "    <tr>\n",
       "      <th>ORIGIN_AIRPORT</th>\n",
       "      <th></th>\n",
       "      <th></th>\n",
       "      <th></th>\n",
       "      <th></th>\n",
       "      <th></th>\n",
       "      <th></th>\n",
       "      <th></th>\n",
       "      <th></th>\n",
       "      <th></th>\n",
       "      <th></th>\n",
       "      <th></th>\n",
       "      <th></th>\n",
       "      <th></th>\n",
       "      <th></th>\n",
       "      <th></th>\n",
       "      <th></th>\n",
       "      <th></th>\n",
       "      <th></th>\n",
       "      <th></th>\n",
       "      <th></th>\n",
       "      <th></th>\n",
       "    </tr>\n",
       "  </thead>\n",
       "  <tbody>\n",
       "    <tr>\n",
       "      <th>ATL</th>\n",
       "      <td>66599</td>\n",
       "      <td>66599</td>\n",
       "      <td>66599</td>\n",
       "      <td>66599</td>\n",
       "      <td>66599</td>\n",
       "      <td>66599</td>\n",
       "      <td>66481</td>\n",
       "      <td>66599</td>\n",
       "      <td>66599</td>\n",
       "      <td>65219</td>\n",
       "      <td>...</td>\n",
       "      <td>65142</td>\n",
       "      <td>65017</td>\n",
       "      <td>66599</td>\n",
       "      <td>66599</td>\n",
       "      <td>1413</td>\n",
       "      <td>11549</td>\n",
       "      <td>11549</td>\n",
       "      <td>11549</td>\n",
       "      <td>11549</td>\n",
       "      <td>11549</td>\n",
       "    </tr>\n",
       "  </tbody>\n",
       "</table>\n",
       "<p>1 rows × 30 columns</p>\n",
       "</div>"
      ],
      "text/plain": [
       "                 YEAR  MONTH    DAY  DAY_OF_WEEK  AIRLINE  FLIGHT_NUMBER  \\\n",
       "ORIGIN_AIRPORT                                                             \n",
       "ATL             66599  66599  66599        66599    66599          66599   \n",
       "\n",
       "                TAIL_NUMBER  DESTINATION_AIRPORT  SCHEDULED_DEPARTURE  \\\n",
       "ORIGIN_AIRPORT                                                          \n",
       "ATL                   66481                66599                66599   \n",
       "\n",
       "                DEPARTURE_TIME  ...  ARRIVAL_TIME  ARRIVAL_DELAY  DIVERTED  \\\n",
       "ORIGIN_AIRPORT                  ...                                          \n",
       "ATL                      65219  ...         65142          65017     66599   \n",
       "\n",
       "                CANCELLED  CANCELLATION_REASON  AIR_SYSTEM_DELAY  \\\n",
       "ORIGIN_AIRPORT                                                     \n",
       "ATL                 66599                 1413             11549   \n",
       "\n",
       "                SECURITY_DELAY  AIRLINE_DELAY  LATE_AIRCRAFT_DELAY  \\\n",
       "ORIGIN_AIRPORT                                                       \n",
       "ATL                      11549          11549                11549   \n",
       "\n",
       "                WEATHER_DELAY  \n",
       "ORIGIN_AIRPORT                 \n",
       "ATL                     11549  \n",
       "\n",
       "[1 rows x 30 columns]"
      ]
     },
     "execution_count": 15,
     "metadata": {},
     "output_type": "execute_result"
    }
   ],
   "source": [
    "flightcount_d = flights.groupby('ORIGIN_AIRPORT').count()\n",
    "flightcount_d.max()\n",
    "flightcount_d.min()\n",
    "flightcount_a = flights.groupby('DESTINATION_AIRPORT').count()\n",
    "flightcount_a[flightcount_a['FLIGHT_NUMBER'] == 66741]\n",
    "flightcount_d[flightcount_d['FLIGHT_NUMBER'] == 66599]"
   ]
  },
  {
   "cell_type": "code",
   "execution_count": 16,
   "id": "18ccc125",
   "metadata": {
    "scrolled": true
   },
   "outputs": [
    {
     "data": {
      "text/html": [
       "<div>\n",
       "<style scoped>\n",
       "    .dataframe tbody tr th:only-of-type {\n",
       "        vertical-align: middle;\n",
       "    }\n",
       "\n",
       "    .dataframe tbody tr th {\n",
       "        vertical-align: top;\n",
       "    }\n",
       "\n",
       "    .dataframe thead th {\n",
       "        text-align: right;\n",
       "    }\n",
       "</style>\n",
       "<table border=\"1\" class=\"dataframe\">\n",
       "  <thead>\n",
       "    <tr style=\"text-align: right;\">\n",
       "      <th></th>\n",
       "      <th>YEAR</th>\n",
       "      <th>MONTH</th>\n",
       "      <th>DAY</th>\n",
       "      <th>DAY_OF_WEEK</th>\n",
       "      <th>AIRLINE</th>\n",
       "      <th>FLIGHT_NUMBER</th>\n",
       "      <th>TAIL_NUMBER</th>\n",
       "      <th>ORIGIN_AIRPORT</th>\n",
       "      <th>SCHEDULED_DEPARTURE</th>\n",
       "      <th>DEPARTURE_TIME</th>\n",
       "      <th>...</th>\n",
       "      <th>ARRIVAL_TIME</th>\n",
       "      <th>ARRIVAL_DELAY</th>\n",
       "      <th>DIVERTED</th>\n",
       "      <th>CANCELLED</th>\n",
       "      <th>CANCELLATION_REASON</th>\n",
       "      <th>AIR_SYSTEM_DELAY</th>\n",
       "      <th>SECURITY_DELAY</th>\n",
       "      <th>AIRLINE_DELAY</th>\n",
       "      <th>LATE_AIRCRAFT_DELAY</th>\n",
       "      <th>WEATHER_DELAY</th>\n",
       "    </tr>\n",
       "    <tr>\n",
       "      <th>DESTINATION_AIRPORT</th>\n",
       "      <th></th>\n",
       "      <th></th>\n",
       "      <th></th>\n",
       "      <th></th>\n",
       "      <th></th>\n",
       "      <th></th>\n",
       "      <th></th>\n",
       "      <th></th>\n",
       "      <th></th>\n",
       "      <th></th>\n",
       "      <th></th>\n",
       "      <th></th>\n",
       "      <th></th>\n",
       "      <th></th>\n",
       "      <th></th>\n",
       "      <th></th>\n",
       "      <th></th>\n",
       "      <th></th>\n",
       "      <th></th>\n",
       "      <th></th>\n",
       "      <th></th>\n",
       "    </tr>\n",
       "  </thead>\n",
       "  <tbody>\n",
       "    <tr>\n",
       "      <th>ITH</th>\n",
       "      <td>6</td>\n",
       "      <td>6</td>\n",
       "      <td>6</td>\n",
       "      <td>6</td>\n",
       "      <td>6</td>\n",
       "      <td>6</td>\n",
       "      <td>6</td>\n",
       "      <td>6</td>\n",
       "      <td>6</td>\n",
       "      <td>4</td>\n",
       "      <td>...</td>\n",
       "      <td>4</td>\n",
       "      <td>4</td>\n",
       "      <td>6</td>\n",
       "      <td>6</td>\n",
       "      <td>2</td>\n",
       "      <td>2</td>\n",
       "      <td>2</td>\n",
       "      <td>2</td>\n",
       "      <td>2</td>\n",
       "      <td>2</td>\n",
       "    </tr>\n",
       "  </tbody>\n",
       "</table>\n",
       "<p>1 rows × 30 columns</p>\n",
       "</div>"
      ],
      "text/plain": [
       "                     YEAR  MONTH  DAY  DAY_OF_WEEK  AIRLINE  FLIGHT_NUMBER  \\\n",
       "DESTINATION_AIRPORT                                                          \n",
       "ITH                     6      6    6            6        6              6   \n",
       "\n",
       "                     TAIL_NUMBER  ORIGIN_AIRPORT  SCHEDULED_DEPARTURE  \\\n",
       "DESTINATION_AIRPORT                                                     \n",
       "ITH                            6               6                    6   \n",
       "\n",
       "                     DEPARTURE_TIME  ...  ARRIVAL_TIME  ARRIVAL_DELAY  \\\n",
       "DESTINATION_AIRPORT                  ...                                \n",
       "ITH                               4  ...             4              4   \n",
       "\n",
       "                     DIVERTED  CANCELLED  CANCELLATION_REASON  \\\n",
       "DESTINATION_AIRPORT                                             \n",
       "ITH                         6          6                    2   \n",
       "\n",
       "                     AIR_SYSTEM_DELAY  SECURITY_DELAY  AIRLINE_DELAY  \\\n",
       "DESTINATION_AIRPORT                                                    \n",
       "ITH                                 2               2              2   \n",
       "\n",
       "                     LATE_AIRCRAFT_DELAY  WEATHER_DELAY  \n",
       "DESTINATION_AIRPORT                                      \n",
       "ITH                                    2              2  \n",
       "\n",
       "[1 rows x 30 columns]"
      ]
     },
     "execution_count": 16,
     "metadata": {},
     "output_type": "execute_result"
    }
   ],
   "source": [
    "flightcount_d[flightcount_d['FLIGHT_NUMBER'] == 6]\n",
    "flightcount_a[flightcount_a['FLIGHT_NUMBER'] == 6]"
   ]
  },
  {
   "cell_type": "markdown",
   "id": "566ad04d",
   "metadata": {},
   "source": [
    "The airport with both the most departing and arriving flights is Hartsfield-Jackson Atlanta International Airport (ATL).\n",
    "The airport with both the least departing and arriving flights is Ithica Tompkins Regional Airport (ITH)."
   ]
  },
  {
   "cell_type": "code",
   "execution_count": 100,
   "id": "ddf93d80",
   "metadata": {},
   "outputs": [
    {
     "data": {
      "text/plain": [
       "40527"
      ]
     },
     "execution_count": 100,
     "metadata": {},
     "output_type": "execute_result"
    }
   ],
   "source": [
    "flights.count()\n",
    "flights.groupby('CANCELLATION_REASON').count()['FLIGHT_NUMBER']\n",
    "cancelled = flights[flights['CANCELLED'] == 1]\n",
    "np.sum(cancelled['CANCELLED'])"
   ]
  },
  {
   "cell_type": "code",
   "execution_count": 101,
   "id": "e932c403",
   "metadata": {},
   "outputs": [
    {
     "data": {
      "image/png": "[encoded data removed]",
      "text/plain": [
       "<Figure size 432x288 with 1 Axes>"
      ]
     },
     "metadata": {
      "needs_background": "light"
     },
     "output_type": "display_data"
    }
   ],
   "source": [
    "cancel = {'Airline/Carrier':6974, 'Weather':28260, 'National Air System':5291, 'Security':2}\n",
    "reason = list(cancel.keys())\n",
    "num = list(cancel.values())\n",
    "colors = ['tomato','deepskyblue', 'violet', 'gold', 'yellowgreen']\n",
    "plt.bar(reason, num, width = 0.5, color = colors)\n",
    "plt.title('Flight Cancellation Reasons')\n",
    "plt.show()"
   ]
  },
  {
   "cell_type": "markdown",
   "id": "2a2eda84",
   "metadata": {},
   "source": [
    "In 2015, 40,527 flights were cancelled. 28,260, or roughly 70% of these flights were cancelled due to weather complications. Only 2 were because of security reasons. "
   ]
  },
  {
   "cell_type": "code",
   "execution_count": 102,
   "id": "32fbc63a",
   "metadata": {},
   "outputs": [
    {
     "data": {
      "image/png": "[encoded data removed]",
      "text/plain": [
       "<Figure size 432x288 with 1 Axes>"
      ]
     },
     "metadata": {
      "needs_background": "light"
     },
     "output_type": "display_data"
    }
   ],
   "source": [
    "flights.groupby('DAY_OF_WEEK').count()\n",
    "day = ['Monday', 'Tuesday', 'Wednesday', 'Thursday', 'Friday', 'Saturday', 'Sunday']\n",
    "num_byday = flights.groupby('DAY_OF_WEEK').count()['DAY']\n",
    "colors2 = ['dodgerblue','limegreen','deeppink','gold','darkorange','sienna','khaki']\n",
    "plt.bar(day, num_byday, color = colors2)\n",
    "plt.xticks(rotation=45, ha = 'right')\n",
    "plt.title('Number of Flights by Day')\n",
    "plt.show()"
   ]
  },
  {
   "cell_type": "markdown",
   "id": "f5fdbbf8",
   "metadata": {},
   "source": [
    "The most popular day to fly on in 2015 was Friday, with 163,070 flights. This was closely followed by Monday, with 162,041 flights. The least popular day to fly on was Saturday, with 129,040 fligths."
   ]
  },
  {
   "cell_type": "code",
   "execution_count": 35,
   "id": "49fd3b96",
   "metadata": {},
   "outputs": [
    {
     "data": {
      "image/png": "[encoded data removed]",
      "text/plain": [
       "<Figure size 432x288 with 1 Axes>"
      ]
     },
     "metadata": {
      "needs_background": "light"
     },
     "output_type": "display_data"
    }
   ],
   "source": [
    "num_byairline = flights.groupby('AIRLINE').count()['FLIGHT_NUMBER']\n",
    "airline = ('American Airlines', 'Alaska Airlines', 'JetBlue Airways', 'Delta Air Lines', 'Atlantic Southeast Airlines', 'Frontier Airlines', 'Hawaiian Airlines', 'American Eagle Airlines', 'Spirit Airlines', 'Skywest Airlines', 'United Airlines', 'US Airways', 'Virgin America', 'Southwest Airlines')\n",
    "colors3 = ['mediumorchid','gold','lightcoral','yellowgreen','darkorange','dodgerblue','pink','aquamarine','khaki','royalblue','deeppink','limegreen','plum','powderblue']\n",
    "plt.bar(airline, num_byairline, color = colors3)\n",
    "plt.xticks(rotation=45, ha = 'right')\n",
    "plt.title('Number of Flights by Airline')\n",
    "plt.show()"
   ]
  },
  {
   "cell_type": "markdown",
   "id": "f9447517",
   "metadata": {},
   "source": [
    "Southwest Airlines was the most travelled airline with 221,586 flights in 2015. The next most travelled airline was Delta Airlines with 147,486 flights, and the third most travelled airline was Atlantic Southeast Airlines with 111,206 flights. "
   ]
  },
  {
   "cell_type": "markdown",
   "id": "5d69af51",
   "metadata": {},
   "source": [
    "### Delays:\n",
    "Next I wanted to explore delays. This was the original intent of the kaggle data set. These are some of the questions I had going in:\n",
    "* Which airline had the most delays?\n",
    "* Which airport experienced the most delays?\n",
    "* What was the most popular reason for delay?"
   ]
  },
  {
   "cell_type": "code",
   "execution_count": 104,
   "id": "a0dea47f",
   "metadata": {},
   "outputs": [
    {
     "data": {
      "image/png": "[encoded data removed]",
      "text/plain": [
       "<Figure size 432x288 with 1 Axes>"
      ]
     },
     "metadata": {
      "needs_background": "light"
     },
     "output_type": "display_data"
    }
   ],
   "source": [
    "delay = flights[flights['ARRIVAL_DELAY'] > 0]\n",
    "num_bydelay = delay.groupby('AIRLINE').count()['FLIGHT_NUMBER']\n",
    "plt.bar(airline, num_bydelay, color = colors3)\n",
    "plt.xticks(rotation=45, ha = 'right')\n",
    "plt.title('Number of Delays by Airline')\n",
    "plt.show()"
   ]
  },
  {
   "cell_type": "markdown",
   "id": "c3ebffac",
   "metadata": {},
   "source": [
    "Southwest had the most delays with 84,124 flights leaving past the scheduled departure time. This is nearly twice the number of delays from Delta, the next highest number of delays with 48,298. This closely followed by Atlantic Southeast Airlines, with 47,563 delays. "
   ]
  },
  {
   "cell_type": "code",
   "execution_count": 105,
   "id": "9c3c99eb",
   "metadata": {},
   "outputs": [
    {
     "data": {
      "image/png": "[encoded data removed]",
      "text/plain": [
       "<Figure size 432x288 with 1 Axes>"
      ]
     },
     "metadata": {
      "needs_background": "light"
     },
     "output_type": "display_data"
    }
   ],
   "source": [
    "plt.bar(airline, num_bydelay/num_byairline, color = colors3)\n",
    "plt.xticks(rotation = 45, ha = 'right')\n",
    "plt.title('Proportion of Delayed Flights by Airline')\n",
    "plt.show()"
   ]
  },
  {
   "cell_type": "markdown",
   "id": "30a36c14",
   "metadata": {},
   "source": [
    "Because the number of delays is likely biased by the number of flights, another graph was made with the proportion of delayed flights to number of total flights in 2015 by airline. In this analysis, it can be seen that Frontier Airlines has the highest proportion of delayed flights with 56.34% of their flights leaving past the intended time. The airlines with the lowest proportion of delayed flights are Delta Airlines with 37.75% of flights getting delayed and Alaska Airlines with 32.80% of flights getting delayed. "
   ]
  },
  {
   "cell_type": "code",
   "execution_count": 23,
   "id": "216c0b52",
   "metadata": {
    "scrolled": true
   },
   "outputs": [
    {
     "data": {
      "text/html": [
       "<div>\n",
       "<style scoped>\n",
       "    .dataframe tbody tr th:only-of-type {\n",
       "        vertical-align: middle;\n",
       "    }\n",
       "\n",
       "    .dataframe tbody tr th {\n",
       "        vertical-align: top;\n",
       "    }\n",
       "\n",
       "    .dataframe thead th {\n",
       "        text-align: right;\n",
       "    }\n",
       "</style>\n",
       "<table border=\"1\" class=\"dataframe\">\n",
       "  <thead>\n",
       "    <tr style=\"text-align: right;\">\n",
       "      <th></th>\n",
       "      <th>YEAR</th>\n",
       "      <th>MONTH</th>\n",
       "      <th>DAY</th>\n",
       "      <th>DAY_OF_WEEK</th>\n",
       "      <th>AIRLINE</th>\n",
       "      <th>FLIGHT_NUMBER</th>\n",
       "      <th>TAIL_NUMBER</th>\n",
       "      <th>ORIGIN_AIRPORT</th>\n",
       "      <th>SCHEDULED_DEPARTURE</th>\n",
       "      <th>DEPARTURE_TIME</th>\n",
       "      <th>...</th>\n",
       "      <th>ARRIVAL_TIME</th>\n",
       "      <th>ARRIVAL_DELAY</th>\n",
       "      <th>DIVERTED</th>\n",
       "      <th>CANCELLED</th>\n",
       "      <th>CANCELLATION_REASON</th>\n",
       "      <th>AIR_SYSTEM_DELAY</th>\n",
       "      <th>SECURITY_DELAY</th>\n",
       "      <th>AIRLINE_DELAY</th>\n",
       "      <th>LATE_AIRCRAFT_DELAY</th>\n",
       "      <th>WEATHER_DELAY</th>\n",
       "    </tr>\n",
       "    <tr>\n",
       "      <th>DESTINATION_AIRPORT</th>\n",
       "      <th></th>\n",
       "      <th></th>\n",
       "      <th></th>\n",
       "      <th></th>\n",
       "      <th></th>\n",
       "      <th></th>\n",
       "      <th></th>\n",
       "      <th></th>\n",
       "      <th></th>\n",
       "      <th></th>\n",
       "      <th></th>\n",
       "      <th></th>\n",
       "      <th></th>\n",
       "      <th></th>\n",
       "      <th></th>\n",
       "      <th></th>\n",
       "      <th></th>\n",
       "      <th></th>\n",
       "      <th></th>\n",
       "      <th></th>\n",
       "      <th></th>\n",
       "    </tr>\n",
       "  </thead>\n",
       "  <tbody>\n",
       "    <tr>\n",
       "      <th>ORD</th>\n",
       "      <td>24880</td>\n",
       "      <td>24880</td>\n",
       "      <td>24880</td>\n",
       "      <td>24880</td>\n",
       "      <td>24880</td>\n",
       "      <td>24880</td>\n",
       "      <td>24880</td>\n",
       "      <td>24880</td>\n",
       "      <td>24880</td>\n",
       "      <td>24880</td>\n",
       "      <td>...</td>\n",
       "      <td>24880</td>\n",
       "      <td>24880</td>\n",
       "      <td>24880</td>\n",
       "      <td>24880</td>\n",
       "      <td>0</td>\n",
       "      <td>15135</td>\n",
       "      <td>15135</td>\n",
       "      <td>15135</td>\n",
       "      <td>15135</td>\n",
       "      <td>15135</td>\n",
       "    </tr>\n",
       "  </tbody>\n",
       "</table>\n",
       "<p>1 rows × 30 columns</p>\n",
       "</div>"
      ],
      "text/plain": [
       "                      YEAR  MONTH    DAY  DAY_OF_WEEK  AIRLINE  FLIGHT_NUMBER  \\\n",
       "DESTINATION_AIRPORT                                                             \n",
       "ORD                  24880  24880  24880        24880    24880          24880   \n",
       "\n",
       "                     TAIL_NUMBER  ORIGIN_AIRPORT  SCHEDULED_DEPARTURE  \\\n",
       "DESTINATION_AIRPORT                                                     \n",
       "ORD                        24880           24880                24880   \n",
       "\n",
       "                     DEPARTURE_TIME  ...  ARRIVAL_TIME  ARRIVAL_DELAY  \\\n",
       "DESTINATION_AIRPORT                  ...                                \n",
       "ORD                           24880  ...         24880          24880   \n",
       "\n",
       "                     DIVERTED  CANCELLED  CANCELLATION_REASON  \\\n",
       "DESTINATION_AIRPORT                                             \n",
       "ORD                     24880      24880                    0   \n",
       "\n",
       "                     AIR_SYSTEM_DELAY  SECURITY_DELAY  AIRLINE_DELAY  \\\n",
       "DESTINATION_AIRPORT                                                    \n",
       "ORD                             15135           15135          15135   \n",
       "\n",
       "                     LATE_AIRCRAFT_DELAY  WEATHER_DELAY  \n",
       "DESTINATION_AIRPORT                                      \n",
       "ORD                                15135          15135  \n",
       "\n",
       "[1 rows x 30 columns]"
      ]
     },
     "execution_count": 23,
     "metadata": {},
     "output_type": "execute_result"
    }
   ],
   "source": [
    "delay_a = delay.groupby('DESTINATION_AIRPORT').count()\n",
    "delay_a.max()\n",
    "delay_a[delay_a['FLIGHT_NUMBER'] == 24880]"
   ]
  },
  {
   "cell_type": "code",
   "execution_count": 24,
   "id": "561f6657",
   "metadata": {},
   "outputs": [
    {
     "data": {
      "text/html": [
       "<div>\n",
       "<style scoped>\n",
       "    .dataframe tbody tr th:only-of-type {\n",
       "        vertical-align: middle;\n",
       "    }\n",
       "\n",
       "    .dataframe tbody tr th {\n",
       "        vertical-align: top;\n",
       "    }\n",
       "\n",
       "    .dataframe thead th {\n",
       "        text-align: right;\n",
       "    }\n",
       "</style>\n",
       "<table border=\"1\" class=\"dataframe\">\n",
       "  <thead>\n",
       "    <tr style=\"text-align: right;\">\n",
       "      <th></th>\n",
       "      <th>YEAR</th>\n",
       "      <th>MONTH</th>\n",
       "      <th>DAY</th>\n",
       "      <th>DAY_OF_WEEK</th>\n",
       "      <th>AIRLINE</th>\n",
       "      <th>FLIGHT_NUMBER</th>\n",
       "      <th>TAIL_NUMBER</th>\n",
       "      <th>DESTINATION_AIRPORT</th>\n",
       "      <th>SCHEDULED_DEPARTURE</th>\n",
       "      <th>DEPARTURE_TIME</th>\n",
       "      <th>...</th>\n",
       "      <th>ARRIVAL_TIME</th>\n",
       "      <th>ARRIVAL_DELAY</th>\n",
       "      <th>DIVERTED</th>\n",
       "      <th>CANCELLED</th>\n",
       "      <th>CANCELLATION_REASON</th>\n",
       "      <th>AIR_SYSTEM_DELAY</th>\n",
       "      <th>SECURITY_DELAY</th>\n",
       "      <th>AIRLINE_DELAY</th>\n",
       "      <th>LATE_AIRCRAFT_DELAY</th>\n",
       "      <th>WEATHER_DELAY</th>\n",
       "    </tr>\n",
       "    <tr>\n",
       "      <th>ORIGIN_AIRPORT</th>\n",
       "      <th></th>\n",
       "      <th></th>\n",
       "      <th></th>\n",
       "      <th></th>\n",
       "      <th></th>\n",
       "      <th></th>\n",
       "      <th></th>\n",
       "      <th></th>\n",
       "      <th></th>\n",
       "      <th></th>\n",
       "      <th></th>\n",
       "      <th></th>\n",
       "      <th></th>\n",
       "      <th></th>\n",
       "      <th></th>\n",
       "      <th></th>\n",
       "      <th></th>\n",
       "      <th></th>\n",
       "      <th></th>\n",
       "      <th></th>\n",
       "      <th></th>\n",
       "    </tr>\n",
       "  </thead>\n",
       "  <tbody>\n",
       "    <tr>\n",
       "      <th>ORD</th>\n",
       "      <td>26257</td>\n",
       "      <td>26257</td>\n",
       "      <td>26257</td>\n",
       "      <td>26257</td>\n",
       "      <td>26257</td>\n",
       "      <td>26257</td>\n",
       "      <td>26257</td>\n",
       "      <td>26257</td>\n",
       "      <td>26257</td>\n",
       "      <td>26257</td>\n",
       "      <td>...</td>\n",
       "      <td>26257</td>\n",
       "      <td>26257</td>\n",
       "      <td>26257</td>\n",
       "      <td>26257</td>\n",
       "      <td>0</td>\n",
       "      <td>17148</td>\n",
       "      <td>17148</td>\n",
       "      <td>17148</td>\n",
       "      <td>17148</td>\n",
       "      <td>17148</td>\n",
       "    </tr>\n",
       "  </tbody>\n",
       "</table>\n",
       "<p>1 rows × 30 columns</p>\n",
       "</div>"
      ],
      "text/plain": [
       "                 YEAR  MONTH    DAY  DAY_OF_WEEK  AIRLINE  FLIGHT_NUMBER  \\\n",
       "ORIGIN_AIRPORT                                                             \n",
       "ORD             26257  26257  26257        26257    26257          26257   \n",
       "\n",
       "                TAIL_NUMBER  DESTINATION_AIRPORT  SCHEDULED_DEPARTURE  \\\n",
       "ORIGIN_AIRPORT                                                          \n",
       "ORD                   26257                26257                26257   \n",
       "\n",
       "                DEPARTURE_TIME  ...  ARRIVAL_TIME  ARRIVAL_DELAY  DIVERTED  \\\n",
       "ORIGIN_AIRPORT                  ...                                          \n",
       "ORD                      26257  ...         26257          26257     26257   \n",
       "\n",
       "                CANCELLED  CANCELLATION_REASON  AIR_SYSTEM_DELAY  \\\n",
       "ORIGIN_AIRPORT                                                     \n",
       "ORD                 26257                    0             17148   \n",
       "\n",
       "                SECURITY_DELAY  AIRLINE_DELAY  LATE_AIRCRAFT_DELAY  \\\n",
       "ORIGIN_AIRPORT                                                       \n",
       "ORD                      17148          17148                17148   \n",
       "\n",
       "                WEATHER_DELAY  \n",
       "ORIGIN_AIRPORT                 \n",
       "ORD                     17148  \n",
       "\n",
       "[1 rows x 30 columns]"
      ]
     },
     "execution_count": 24,
     "metadata": {},
     "output_type": "execute_result"
    }
   ],
   "source": [
    "delay_a = delay.groupby('ORIGIN_AIRPORT').count()\n",
    "delay_a.max()\n",
    "delay_a[delay_a['FLIGHT_NUMBER'] == 26257]"
   ]
  },
  {
   "cell_type": "markdown",
   "id": "e845fddd",
   "metadata": {},
   "source": [
    "The destination airport with the most incoming delayed flights is Chicago O'Hare. The origin airport with the most outgoing delayed flights is also Chicago O'Hare."
   ]
  },
  {
   "cell_type": "code",
   "execution_count": 106,
   "id": "67c8dd15",
   "metadata": {},
   "outputs": [
    {
     "data": {
      "image/png": "[encoded data removed]",
      "text/plain": [
       "<Figure size 432x288 with 1 Axes>"
      ]
     },
     "metadata": {
      "needs_background": "light"
     },
     "output_type": "display_data"
    }
   ],
   "source": [
    "delay[delay['AIR_SYSTEM_DELAY'] >0 ].count()\n",
    "delay[delay['SECURITY_DELAY'] >0 ].count()\n",
    "delay[delay['AIRLINE_DELAY'] >0 ].count()\n",
    "delay[delay['LATE_AIRCRAFT_DELAY'] >0 ].count()\n",
    "delay[delay['WEATHER_DELAY'] >0 ].count()\n",
    "delay_reason = {'Airline':122239, 'Weather':18038, 'Air System':131134, 'Security':605, 'Late Aircraft':120928}\n",
    "reason = list(delay_reason.keys())\n",
    "num = list(delay_reason.values())\n",
    "plt.bar(reason, num, width = 0.5, color = colors)\n",
    "plt.title('Reasons for Flight Delays')\n",
    "plt.show()"
   ]
  },
  {
   "cell_type": "markdown",
   "id": "d8d527ec",
   "metadata": {},
   "source": [
    "The most popular reason for delay is Air System with 131,134 delays. The least popular reason for delay is Security, with only 605 delays. Weather also has a very low number of delays in comparison, so we can see that most delays have to do with the airline or system, being that late aircrafts are due to previous delays. "
   ]
  },
  {
   "cell_type": "markdown",
   "id": "83e9119d",
   "metadata": {},
   "source": [
    "### Taxiing:\n",
    "The time in between getting on the airplane and the airplane actually taking off is arguably the most frustrating time as a traveller. Because of this, I wanted to explore more about taxiing in this data set. Here are some questions I sought to answer:\n",
    "* Which flights had the longest taxi time?\n",
    "* Which airline has the most taxi time overall?\n",
    "* Which airline taxis the most proportionally?\n"
   ]
  },
  {
   "cell_type": "code",
   "execution_count": 108,
   "id": "eff338e9",
   "metadata": {},
   "outputs": [
    {
     "data": {
      "text/html": [
       "<div>\n",
       "<style scoped>\n",
       "    .dataframe tbody tr th:only-of-type {\n",
       "        vertical-align: middle;\n",
       "    }\n",
       "\n",
       "    .dataframe tbody tr th {\n",
       "        vertical-align: top;\n",
       "    }\n",
       "\n",
       "    .dataframe thead th {\n",
       "        text-align: right;\n",
       "    }\n",
       "</style>\n",
       "<table border=\"1\" class=\"dataframe\">\n",
       "  <thead>\n",
       "    <tr style=\"text-align: right;\">\n",
       "      <th></th>\n",
       "      <th>YEAR</th>\n",
       "      <th>MONTH</th>\n",
       "      <th>DAY</th>\n",
       "      <th>DAY_OF_WEEK</th>\n",
       "      <th>AIRLINE</th>\n",
       "      <th>FLIGHT_NUMBER</th>\n",
       "      <th>TAIL_NUMBER</th>\n",
       "      <th>ORIGIN_AIRPORT</th>\n",
       "      <th>DESTINATION_AIRPORT</th>\n",
       "      <th>SCHEDULED_DEPARTURE</th>\n",
       "      <th>...</th>\n",
       "      <th>ARRIVAL_TIME</th>\n",
       "      <th>ARRIVAL_DELAY</th>\n",
       "      <th>DIVERTED</th>\n",
       "      <th>CANCELLED</th>\n",
       "      <th>CANCELLATION_REASON</th>\n",
       "      <th>AIR_SYSTEM_DELAY</th>\n",
       "      <th>SECURITY_DELAY</th>\n",
       "      <th>AIRLINE_DELAY</th>\n",
       "      <th>LATE_AIRCRAFT_DELAY</th>\n",
       "      <th>WEATHER_DELAY</th>\n",
       "    </tr>\n",
       "  </thead>\n",
       "  <tbody>\n",
       "    <tr>\n",
       "      <th>878906</th>\n",
       "      <td>2015</td>\n",
       "      <td>2</td>\n",
       "      <td>27</td>\n",
       "      <td>5</td>\n",
       "      <td>AA</td>\n",
       "      <td>125</td>\n",
       "      <td>N4XBAA</td>\n",
       "      <td>DFW</td>\n",
       "      <td>ATL</td>\n",
       "      <td>1415</td>\n",
       "      <td>...</td>\n",
       "      <td>2250.0</td>\n",
       "      <td>337.0</td>\n",
       "      <td>0</td>\n",
       "      <td>0</td>\n",
       "      <td>NaN</td>\n",
       "      <td>202.0</td>\n",
       "      <td>0.0</td>\n",
       "      <td>0.0</td>\n",
       "      <td>0.0</td>\n",
       "      <td>135.0</td>\n",
       "    </tr>\n",
       "  </tbody>\n",
       "</table>\n",
       "<p>1 rows × 31 columns</p>\n",
       "</div>"
      ],
      "text/plain": [
       "        YEAR  MONTH  DAY  DAY_OF_WEEK AIRLINE  FLIGHT_NUMBER TAIL_NUMBER  \\\n",
       "878906  2015      2   27            5      AA            125      N4XBAA   \n",
       "\n",
       "       ORIGIN_AIRPORT DESTINATION_AIRPORT  SCHEDULED_DEPARTURE  ...  \\\n",
       "878906            DFW                 ATL                 1415  ...   \n",
       "\n",
       "        ARRIVAL_TIME  ARRIVAL_DELAY  DIVERTED  CANCELLED  CANCELLATION_REASON  \\\n",
       "878906        2250.0          337.0         0          0                  NaN   \n",
       "\n",
       "        AIR_SYSTEM_DELAY  SECURITY_DELAY  AIRLINE_DELAY  LATE_AIRCRAFT_DELAY  \\\n",
       "878906             202.0             0.0            0.0                  0.0   \n",
       "\n",
       "        WEATHER_DELAY  \n",
       "878906          135.0  \n",
       "\n",
       "[1 rows x 31 columns]"
      ]
     },
     "execution_count": 108,
     "metadata": {},
     "output_type": "execute_result"
    }
   ],
   "source": [
    "flights['TAXI_OUT'].max()\n",
    "flights[flights['TAXI_OUT'] == 225]"
   ]
  },
  {
   "cell_type": "markdown",
   "id": "bae5927b",
   "metadata": {},
   "source": [
    "The flight that had the longest taxi time when taking off (225 miutes) was an American Airlines flight going from Dallas Fort Worth International Airport (DFW) to Hartsfield-Jackson Atlanta International Airport (ATL)."
   ]
  },
  {
   "cell_type": "code",
   "execution_count": 109,
   "id": "49901133",
   "metadata": {},
   "outputs": [
    {
     "data": {
      "text/html": [
       "<div>\n",
       "<style scoped>\n",
       "    .dataframe tbody tr th:only-of-type {\n",
       "        vertical-align: middle;\n",
       "    }\n",
       "\n",
       "    .dataframe tbody tr th {\n",
       "        vertical-align: top;\n",
       "    }\n",
       "\n",
       "    .dataframe thead th {\n",
       "        text-align: right;\n",
       "    }\n",
       "</style>\n",
       "<table border=\"1\" class=\"dataframe\">\n",
       "  <thead>\n",
       "    <tr style=\"text-align: right;\">\n",
       "      <th></th>\n",
       "      <th>YEAR</th>\n",
       "      <th>MONTH</th>\n",
       "      <th>DAY</th>\n",
       "      <th>DAY_OF_WEEK</th>\n",
       "      <th>AIRLINE</th>\n",
       "      <th>FLIGHT_NUMBER</th>\n",
       "      <th>TAIL_NUMBER</th>\n",
       "      <th>ORIGIN_AIRPORT</th>\n",
       "      <th>DESTINATION_AIRPORT</th>\n",
       "      <th>SCHEDULED_DEPARTURE</th>\n",
       "      <th>...</th>\n",
       "      <th>ARRIVAL_TIME</th>\n",
       "      <th>ARRIVAL_DELAY</th>\n",
       "      <th>DIVERTED</th>\n",
       "      <th>CANCELLED</th>\n",
       "      <th>CANCELLATION_REASON</th>\n",
       "      <th>AIR_SYSTEM_DELAY</th>\n",
       "      <th>SECURITY_DELAY</th>\n",
       "      <th>AIRLINE_DELAY</th>\n",
       "      <th>LATE_AIRCRAFT_DELAY</th>\n",
       "      <th>WEATHER_DELAY</th>\n",
       "    </tr>\n",
       "  </thead>\n",
       "  <tbody>\n",
       "    <tr>\n",
       "      <th>789294</th>\n",
       "      <td>2015</td>\n",
       "      <td>2</td>\n",
       "      <td>21</td>\n",
       "      <td>6</td>\n",
       "      <td>AA</td>\n",
       "      <td>1406</td>\n",
       "      <td>N3GMAA</td>\n",
       "      <td>MIA</td>\n",
       "      <td>JFK</td>\n",
       "      <td>2105</td>\n",
       "      <td>...</td>\n",
       "      <td>416.0</td>\n",
       "      <td>260.0</td>\n",
       "      <td>0</td>\n",
       "      <td>0</td>\n",
       "      <td>NaN</td>\n",
       "      <td>192.0</td>\n",
       "      <td>0.0</td>\n",
       "      <td>0.0</td>\n",
       "      <td>0.0</td>\n",
       "      <td>68.0</td>\n",
       "    </tr>\n",
       "  </tbody>\n",
       "</table>\n",
       "<p>1 rows × 31 columns</p>\n",
       "</div>"
      ],
      "text/plain": [
       "        YEAR  MONTH  DAY  DAY_OF_WEEK AIRLINE  FLIGHT_NUMBER TAIL_NUMBER  \\\n",
       "789294  2015      2   21            6      AA           1406      N3GMAA   \n",
       "\n",
       "       ORIGIN_AIRPORT DESTINATION_AIRPORT  SCHEDULED_DEPARTURE  ...  \\\n",
       "789294            MIA                 JFK                 2105  ...   \n",
       "\n",
       "        ARRIVAL_TIME  ARRIVAL_DELAY  DIVERTED  CANCELLED  CANCELLATION_REASON  \\\n",
       "789294         416.0          260.0         0          0                  NaN   \n",
       "\n",
       "        AIR_SYSTEM_DELAY  SECURITY_DELAY  AIRLINE_DELAY  LATE_AIRCRAFT_DELAY  \\\n",
       "789294             192.0             0.0            0.0                  0.0   \n",
       "\n",
       "        WEATHER_DELAY  \n",
       "789294           68.0  \n",
       "\n",
       "[1 rows x 31 columns]"
      ]
     },
     "execution_count": 109,
     "metadata": {},
     "output_type": "execute_result"
    }
   ],
   "source": [
    "flights['TAXI_IN'].max()\n",
    "flights[flights['TAXI_IN'] == 202]"
   ]
  },
  {
   "cell_type": "markdown",
   "id": "f129ad4d",
   "metadata": {},
   "source": [
    "The flight that had the longest taxi time when landing (202 minutes) was an American Airlines flight going from Miami International Airport (MIA) to John F Kennedy International Airport (JFK)."
   ]
  },
  {
   "cell_type": "code",
   "execution_count": 110,
   "id": "5f11d9a2",
   "metadata": {},
   "outputs": [],
   "source": [
    "flights['TOTAL_TAXI'] = flights['TAXI_OUT'] + flights['TAXI_IN']"
   ]
  },
  {
   "cell_type": "code",
   "execution_count": 111,
   "id": "ae4bf1c1",
   "metadata": {},
   "outputs": [
    {
     "data": {
      "image/png": "[encoded data removed]",
      "text/plain": [
       "<Figure size 432x288 with 1 Axes>"
      ]
     },
     "metadata": {
      "needs_background": "light"
     },
     "output_type": "display_data"
    }
   ],
   "source": [
    "num_bytaxi = flights.groupby('AIRLINE').sum()['TOTAL_TAXI']\n",
    "plt.bar(airline, num_bytaxi, color = colors3)\n",
    "plt.xticks(rotation=45, ha = 'right')\n",
    "plt.title('Total Taxi Time by Airline')\n",
    "plt.show()"
   ]
  },
  {
   "cell_type": "markdown",
   "id": "4f050cc8",
   "metadata": {},
   "source": [
    "The airline with the most total taxi time in 2015 is Southwest with 3,968,206 minutes. This is followed by Delta Airlines with 3,779,975 minutes. The airline with the least total taxi time in 2015 is Virgin America with 231,250 minutes."
   ]
  },
  {
   "cell_type": "code",
   "execution_count": 112,
   "id": "9e20b598",
   "metadata": {},
   "outputs": [
    {
     "data": {
      "image/png": "[encoded data removed]",
      "text/plain": [
       "<Figure size 432x288 with 1 Axes>"
      ]
     },
     "metadata": {
      "needs_background": "light"
     },
     "output_type": "display_data"
    }
   ],
   "source": [
    "plt.bar(airline, num_bytaxi/num_byairline, color = colors3)\n",
    "plt.xticks(rotation=45, ha = 'right')\n",
    "plt.title('Proportional Taxi Time by Airline')\n",
    "plt.show()"
   ]
  },
  {
   "cell_type": "markdown",
   "id": "e5211960",
   "metadata": {},
   "source": [
    "Because the total number of minutes taxiing is likely biased by the number of flights each airline sends out, another analysis was done showing proportion of minutes taxiing to each flight. In this analysis, it can be seen that Southwest Airlines actually has the lowest average taxi time, 17.91 minutes, closely followed by Hawaiian airlines with an average taxi time of 18.01 mintues. United Airlines has the longest taxi time on average with 25.73 minutes. All the airlines have very similar taxi averages, with the range only being eight minutes wide. "
   ]
  },
  {
   "cell_type": "markdown",
   "id": "e6a25cc9",
   "metadata": {},
   "source": [
    "### Scheduled Time:\n",
    "Finally, I had some questions about scheduled time. Here are the questions I asked:\n",
    "* What was the longest scheduled flight?\n",
    "* Which airlines offer this flight and which one offered the shortest travel time?\n",
    "* Which is the most punctual airline?"
   ]
  },
  {
   "cell_type": "code",
   "execution_count": 145,
   "id": "52d74893",
   "metadata": {},
   "outputs": [
    {
     "data": {
      "text/html": [
       "<div>\n",
       "<style scoped>\n",
       "    .dataframe tbody tr th:only-of-type {\n",
       "        vertical-align: middle;\n",
       "    }\n",
       "\n",
       "    .dataframe tbody tr th {\n",
       "        vertical-align: top;\n",
       "    }\n",
       "\n",
       "    .dataframe thead th {\n",
       "        text-align: right;\n",
       "    }\n",
       "</style>\n",
       "<table border=\"1\" class=\"dataframe\">\n",
       "  <thead>\n",
       "    <tr style=\"text-align: right;\">\n",
       "      <th></th>\n",
       "      <th>YEAR</th>\n",
       "      <th>MONTH</th>\n",
       "      <th>DAY</th>\n",
       "      <th>DAY_OF_WEEK</th>\n",
       "      <th>AIRLINE</th>\n",
       "      <th>FLIGHT_NUMBER</th>\n",
       "      <th>TAIL_NUMBER</th>\n",
       "      <th>ORIGIN_AIRPORT</th>\n",
       "      <th>DESTINATION_AIRPORT</th>\n",
       "      <th>SCHEDULED_DEPARTURE</th>\n",
       "      <th>...</th>\n",
       "      <th>ARRIVAL_DELAY</th>\n",
       "      <th>DIVERTED</th>\n",
       "      <th>CANCELLED</th>\n",
       "      <th>CANCELLATION_REASON</th>\n",
       "      <th>AIR_SYSTEM_DELAY</th>\n",
       "      <th>SECURITY_DELAY</th>\n",
       "      <th>AIRLINE_DELAY</th>\n",
       "      <th>LATE_AIRCRAFT_DELAY</th>\n",
       "      <th>WEATHER_DELAY</th>\n",
       "      <th>TOTAL_TAXI</th>\n",
       "    </tr>\n",
       "  </thead>\n",
       "  <tbody>\n",
       "    <tr>\n",
       "      <th>578448</th>\n",
       "      <td>2015</td>\n",
       "      <td>2</td>\n",
       "      <td>8</td>\n",
       "      <td>7</td>\n",
       "      <td>EV</td>\n",
       "      <td>3925</td>\n",
       "      <td>N14542</td>\n",
       "      <td>SWF</td>\n",
       "      <td>LGA</td>\n",
       "      <td>1040</td>\n",
       "      <td>...</td>\n",
       "      <td>NaN</td>\n",
       "      <td>1</td>\n",
       "      <td>0</td>\n",
       "      <td>NaN</td>\n",
       "      <td>NaN</td>\n",
       "      <td>NaN</td>\n",
       "      <td>NaN</td>\n",
       "      <td>NaN</td>\n",
       "      <td>NaN</td>\n",
       "      <td>NaN</td>\n",
       "    </tr>\n",
       "    <tr>\n",
       "      <th>1015853</th>\n",
       "      <td>2015</td>\n",
       "      <td>3</td>\n",
       "      <td>8</td>\n",
       "      <td>7</td>\n",
       "      <td>AS</td>\n",
       "      <td>65</td>\n",
       "      <td>N794AS</td>\n",
       "      <td>WRG</td>\n",
       "      <td>PSG</td>\n",
       "      <td>1101</td>\n",
       "      <td>...</td>\n",
       "      <td>9.0</td>\n",
       "      <td>0</td>\n",
       "      <td>0</td>\n",
       "      <td>NaN</td>\n",
       "      <td>NaN</td>\n",
       "      <td>NaN</td>\n",
       "      <td>NaN</td>\n",
       "      <td>NaN</td>\n",
       "      <td>NaN</td>\n",
       "      <td>16.0</td>\n",
       "    </tr>\n",
       "    <tr>\n",
       "      <th>1032686</th>\n",
       "      <td>2015</td>\n",
       "      <td>3</td>\n",
       "      <td>9</td>\n",
       "      <td>1</td>\n",
       "      <td>AS</td>\n",
       "      <td>65</td>\n",
       "      <td>N797AS</td>\n",
       "      <td>WRG</td>\n",
       "      <td>PSG</td>\n",
       "      <td>1101</td>\n",
       "      <td>...</td>\n",
       "      <td>-6.0</td>\n",
       "      <td>0</td>\n",
       "      <td>0</td>\n",
       "      <td>NaN</td>\n",
       "      <td>NaN</td>\n",
       "      <td>NaN</td>\n",
       "      <td>NaN</td>\n",
       "      <td>NaN</td>\n",
       "      <td>NaN</td>\n",
       "      <td>13.0</td>\n",
       "    </tr>\n",
       "  </tbody>\n",
       "</table>\n",
       "<p>3 rows × 32 columns</p>\n",
       "</div>"
      ],
      "text/plain": [
       "         YEAR  MONTH  DAY  DAY_OF_WEEK AIRLINE  FLIGHT_NUMBER TAIL_NUMBER  \\\n",
       "578448   2015      2    8            7      EV           3925      N14542   \n",
       "1015853  2015      3    8            7      AS             65      N794AS   \n",
       "1032686  2015      3    9            1      AS             65      N797AS   \n",
       "\n",
       "        ORIGIN_AIRPORT DESTINATION_AIRPORT  SCHEDULED_DEPARTURE  ...  \\\n",
       "578448             SWF                 LGA                 1040  ...   \n",
       "1015853            WRG                 PSG                 1101  ...   \n",
       "1032686            WRG                 PSG                 1101  ...   \n",
       "\n",
       "         ARRIVAL_DELAY  DIVERTED  CANCELLED  CANCELLATION_REASON  \\\n",
       "578448             NaN         1          0                  NaN   \n",
       "1015853            9.0         0          0                  NaN   \n",
       "1032686           -6.0         0          0                  NaN   \n",
       "\n",
       "         AIR_SYSTEM_DELAY  SECURITY_DELAY  AIRLINE_DELAY  LATE_AIRCRAFT_DELAY  \\\n",
       "578448                NaN             NaN            NaN                  NaN   \n",
       "1015853               NaN             NaN            NaN                  NaN   \n",
       "1032686               NaN             NaN            NaN                  NaN   \n",
       "\n",
       "         WEATHER_DELAY  TOTAL_TAXI  \n",
       "578448             NaN         NaN  \n",
       "1015853            NaN        16.0  \n",
       "1032686            NaN        13.0  \n",
       "\n",
       "[3 rows x 32 columns]"
      ]
     },
     "execution_count": 145,
     "metadata": {},
     "output_type": "execute_result"
    }
   ],
   "source": [
    "flights[flights['SCHEDULED_TIME'] == 718]\n",
    "flights[flights['SCHEDULED_TIME'] == 20]"
   ]
  },
  {
   "cell_type": "markdown",
   "id": "8cc614e8",
   "metadata": {},
   "source": [
    "The longest scheduled flight is a Delta Airlines flight from John F Kennedy International Airport (JFK) to Honolulu International Airport (HNL) at 718 min. There are two shortest scheduled flights at 20 minutes. The first is an Atlantic Southeast Airlines flight from Stewart International Airport (SWF) to LaGuardia Airport (LGA). The other is an Alaska Airlines flights from Wrangell Airport (WRG) to Petersberg James A Johnson Airport (PSG). "
   ]
  },
  {
   "cell_type": "code",
   "execution_count": 116,
   "id": "bad39e98",
   "metadata": {},
   "outputs": [
    {
     "data": {
      "image/png": "[encoded data removed]",
      "text/plain": [
       "<Figure size 432x288 with 1 Axes>"
      ]
     },
     "metadata": {
      "needs_background": "light"
     },
     "output_type": "display_data"
    }
   ],
   "source": [
    "j_flights = flights[flights['ORIGIN_AIRPORT'] == 'JFK']\n",
    "jh_flights = j_flights[j_flights['DESTINATION_AIRPORT'] == 'HNL']\n",
    "np.histogram(jh_flights['SCHEDULED_TIME'])\n",
    "jh_flights[jh_flights['SCHEDULED_TIME'] == 675]\n",
    "jh_flights[jh_flights['SCHEDULED_TIME'] == 680]\n",
    "flight_time = [718, 675, 680]\n",
    "line = ['Delta Airlines', 'Hawaiian Airlines ', 'Hawaiian Airlines']\n",
    "colors4 = ['yellowgreen', 'pink', 'pink']\n",
    "plt.bar(line, flight_time, color = colors4)\n",
    "plt.title('Flights from JFK to HNL')\n",
    "plt.show()"
   ]
  },
  {
   "cell_type": "markdown",
   "id": "b3604140",
   "metadata": {},
   "source": [
    "The flight from John F Kennedy International Airport (JFK) to Honolulu International Airport (HNL) is also offered from Hawaiian Airlines at both 675 minutes and 680 minutes."
   ]
  },
  {
   "cell_type": "code",
   "execution_count": 117,
   "id": "6457456f",
   "metadata": {},
   "outputs": [
    {
     "data": {
      "image/png": "[encoded data removed]",
      "text/plain": [
       "<Figure size 432x288 with 1 Axes>"
      ]
     },
     "metadata": {
      "needs_background": "light"
     },
     "output_type": "display_data"
    }
   ],
   "source": [
    "punctual = flights[flights['ARRIVAL_DELAY'] == 0]\n",
    "punctuality = punctual.groupby('AIRLINE').count()['DAY']\n",
    "plt.bar(airline, punctuality, color = colors3)\n",
    "plt.xticks(rotation=45, ha = 'right')\n",
    "plt.title('Number of On Time Flights by Airline')\n",
    "plt.show()"
   ]
  },
  {
   "cell_type": "markdown",
   "id": "717013f1",
   "metadata": {},
   "source": [
    "Southwest Airlines has the most on-time flights with 4,976 flights with no arrival delay. Virgin America has is the least on-time airline wth 233 flights with no arrival delay."
   ]
  },
  {
   "cell_type": "code",
   "execution_count": 118,
   "id": "04978593",
   "metadata": {},
   "outputs": [
    {
     "data": {
      "image/png": "[encoded data removed]",
      "text/plain": [
       "<Figure size 432x288 with 1 Axes>"
      ]
     },
     "metadata": {
      "needs_background": "light"
     },
     "output_type": "display_data"
    }
   ],
   "source": [
    "plt.bar(airline, punctuality/num_byairline, color = colors3)\n",
    "plt.xticks(rotation=45, ha = 'right')\n",
    "plt.title('Proportion of On Time Flights by Airline')\n",
    "plt.show()"
   ]
  },
  {
   "cell_type": "markdown",
   "id": "7e27ee3f",
   "metadata": {},
   "source": [
    "Because these numbers are likely influenced by the number of flights from each airline, another analysis was run with the proportion of flights with no delays. In this graph, we can see that Hawaiian Airlines is the most on-time airline, with 4.62% of their flights having 0 delay. All the other airlines have very close to 2% of flights with no delays. "
   ]
  },
  {
   "cell_type": "markdown",
   "id": "aeda4e40",
   "metadata": {},
   "source": [
    "To conclude, it seems that the best airline to fly in order to avoid delays is Hawaiian Airlines. This, however, may be problematic in the sense that Hawaiian Airlines generally only offers flights that will take you to and from Hawaii, so it might not be practical to try and fly Hawaiian. It doesn't seem that the other airlines have much of a difference in punctuality, all ranging from 1.8% to 2.2%. Avoiding delays in travel may have to be left up to luck. "
   ]
  }
 ],
 "metadata": {
  "kernelspec": {
   "display_name": "Python 3 (ipykernel)",
   "language": "python",
   "name": "python3"
  },
  "language_info": {
   "codemirror_mode": {
    "name": "ipython",
    "version": 3
   },
   "file_extension": ".py",
   "mimetype": "text/x-python",
   "name": "python",
   "nbconvert_exporter": "python",
   "pygments_lexer": "ipython3",
   "version": "3.9.7"
  }
 },
 "nbformat": 4,
 "nbformat_minor": 5
}
